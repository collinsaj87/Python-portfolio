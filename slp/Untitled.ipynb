{
 "cells": [
  {
   "cell_type": "code",
   "execution_count": null,
   "id": "80d981b6",
   "metadata": {},
   "outputs": [
    {
     "data": {
      "application/vnd.jupyter.widget-view+json": {
       "model_id": "8bb5717d2a8f4534a79c19722dfae7bc",
       "version_major": 2,
       "version_minor": 0
      },
      "text/plain": [
       "IntSlider(value=40, description='Geology:')"
      ]
     },
     "metadata": {},
     "output_type": "display_data"
    },
    {
     "data": {
      "application/vnd.jupyter.widget-view+json": {
       "model_id": "c7035199bbef4d04bb1bfbf2b037a3dc",
       "version_major": 2,
       "version_minor": 0
      },
      "text/plain": [
       "IntSlider(value=30, description='Population:')"
      ]
     },
     "metadata": {},
     "output_type": "display_data"
    },
    {
     "data": {
      "application/vnd.jupyter.widget-view+json": {
       "model_id": "b13d9080134049c59cd29df2ed93203d",
       "version_major": 2,
       "version_minor": 0
      },
      "text/plain": [
       "IntSlider(value=30, description='Transport:')"
      ]
     },
     "metadata": {},
     "output_type": "display_data"
    }
   ],
   "source": [
    "# make the weight inputs a function that can be used in the development\n",
    "\n",
    "import csv\n",
    "import tkinter\n",
    "import ipywidgets\n",
    "from IPython.display import display\n",
    "import matplotlib\n",
    "matplotlib.use('TkAgg')\n",
    "import matplotlib.pyplot\n",
    "import numpy\n",
    "\n",
    "geo = 0\n",
    "pop = 0\n",
    "trans = 0\n",
    "geo_env = []\n",
    "pop_env = []\n",
    "trans_env = []\n",
    "\n",
    "fig = matplotlib.pyplot.figure(figsize=(6, 6))\n",
    "ax = fig.add_axes([0, 0, 1, 1])\n",
    "\n",
    "# importing the csv data from the geology map\n",
    "\n",
    "with open ('geology.csv', newline='') as f:\n",
    "    geo_env = []\n",
    "    reader = csv.reader(f, quoting=csv.QUOTE_NONNUMERIC)\n",
    "    for row in reader:\n",
    "        rowlist = []\n",
    "        geo_env.append(rowlist)\n",
    "        for value in row:\n",
    "           rowlist.append(value)\n",
    "\n",
    "\n",
    "\n",
    "with open ('population.csv', newline='') as g:\n",
    "    pop_env = []\n",
    "    reader = csv.reader(g, quoting=csv.QUOTE_NONNUMERIC)\n",
    "    for row in reader:\n",
    "        rowlist = []\n",
    "        pop_env.append(rowlist)\n",
    "        for value in row:\n",
    "            rowlist.append(value)\n",
    "\n",
    "\n",
    "with open ('transport.csv', newline='') as h:\n",
    "    trans_env = []\n",
    "    reader = csv.reader(h, quoting=csv.QUOTE_NONNUMERIC)\n",
    "    for row in reader:\n",
    "        rowlist = []\n",
    "        trans_env.append(rowlist)\n",
    "        for value in row:\n",
    "            rowlist.append(value)\n",
    "\n",
    "f.close()\n",
    "g.close()\n",
    "h.close()\n",
    "\n",
    "geo_array = numpy.array(geo_env)\n",
    "pop_array = numpy.array(pop_env)\n",
    "trans_array = numpy.array(trans_env)\n",
    "\n",
    "\n",
    "\n",
    "geo_slider = ipywidgets.IntSlider(value = 40, min = 0, max = 100, step = 1, description = 'Geology:')\n",
    "pop_slider = ipywidgets.IntSlider(value = 30, min = 0, max = 100, step = 1, description = 'Population:')\n",
    "trans_slider = ipywidgets.IntSlider(value = 30, min = 0, max = 100, step = 1, description = 'Transport:')\n",
    "\n",
    "display(geo_slider, pop_slider, trans_slider)\n",
    "\n",
    "\n",
    "root = tkinter.Tk()\n",
    "root.wm_title(\"Site location\")\n",
    "canvas = matplotlib.backends.backend_tkagg.FigureCanvasTkAgg(fig, master=root)\n",
    "canvas._tkcanvas.pack(side=tkinter.TOP, fill=tkinter.BOTH, expand=1)\n",
    "\n",
    "#geo_slider = tkinter.Scale(root, from_ = 100, to = 0, label='Geology')\n",
    "#geo_slider.pack(padx=5, pady=15, side='left')\n",
    "\n",
    "#pop_slider = tkinter.Scale(root, from_ = 100, to = 0, label='Population')\n",
    "#pop_slider.pack(padx=5, pady=20, side='left')\n",
    "\n",
    "#trans_slider = tkinter.Scale(root, from_ = 100, to = 0, label ='Transport')\n",
    "#trans_slider.pack(padx=5, pady=25, side='left')\n",
    "\n",
    "def get_values():\n",
    "    global geo\n",
    "    global pop\n",
    "    global trans\n",
    "    geo = geo_slider.value / 100\n",
    "    pop = pop_slider.value / 100\n",
    "    trans = trans_slider.value / 100\n",
    "    \n",
    "\n",
    "extract = tkinter.Button(root, text = 'Submit', command=get_values)\n",
    "extract.pack()\n",
    "\n",
    "\n",
    "geo_w = (geo * geo_array)\n",
    "pop_w = (pop * pop_array)\n",
    "trans_w = (trans * trans_array)\n",
    "\n",
    "\n",
    "combine = numpy.add(geo_w, pop_w)\n",
    "final = numpy.add(trans_w, combine)\n",
    "\n",
    "matplotlib.pyplot.imshow(final)\n",
    "tkinter.mainloop()\n",
    "\n",
    "\n",
    "\n",
    "\n"
   ]
  },
  {
   "cell_type": "code",
   "execution_count": null,
   "id": "ad79567a",
   "metadata": {},
   "outputs": [],
   "source": []
  }
 ],
 "metadata": {
  "kernelspec": {
   "display_name": "Python 3",
   "language": "python",
   "name": "python3"
  },
  "language_info": {
   "codemirror_mode": {
    "name": "ipython",
    "version": 3
   },
   "file_extension": ".py",
   "mimetype": "text/x-python",
   "name": "python",
   "nbconvert_exporter": "python",
   "pygments_lexer": "ipython3",
   "version": "3.8.8"
  }
 },
 "nbformat": 4,
 "nbformat_minor": 5
}
